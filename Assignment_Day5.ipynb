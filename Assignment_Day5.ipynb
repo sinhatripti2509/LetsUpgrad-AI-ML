{
 "cells": [
  {
   "cell_type": "markdown",
   "metadata": {},
   "source": [
    "# Question 1 :\n",
    "Write a Python program to find the first 20 non-even prime natural numbers.\n"
   ]
  },
  {
   "cell_type": "code",
   "execution_count": null,
   "metadata": {},
   "outputs": [],
   "source": [
    "count=0\n",
    "for i in range(1000):\n",
    "    if(i%2==0):\n",
    "        for j in range(2,i):\n",
    "            if(i%j==0):\n",
    "                break\n",
    "        else:\n",
    "            if(count<=20):\n",
    "                print(i)\n",
    "                count+=1\n",
    "            else:\n",
    "                break\n",
    "            "
   ]
  },
  {
   "cell_type": "markdown",
   "metadata": {},
   "source": [
    "# Question 2 :\n",
    "Write a Python program to implement 15 functions of string"
   ]
  },
  {
   "cell_type": "code",
   "execution_count": null,
   "metadata": {},
   "outputs": [],
   "source": [
    "string=\"Hi, My name is Tripti Sinha\"\n",
    "print(string.swapcase())\n",
    "print(string.capitalize())\n",
    "print(string.lower())\n",
    "print(string.upper())\n",
    "print(string.islower())\n",
    "print(string.isalpha())\n",
    "print(string.isspace())\n",
    "print(string.isupper())\n",
    "print(string.title())\n",
    "print(string.find(\"Tripti\"))\n",
    "print(string.partition(\"Tripti\"))\n",
    "print(string.replace('i','e'))\n",
    "print(string.count('i'))\n",
    "print(string.index('S'))"
   ]
  },
  {
   "cell_type": "markdown",
   "metadata": {},
   "source": [
    "# Question 3:\n",
    "Write a Python program to check if the given string is a Palindrome or Anagram or None of them.\n",
    "Display the message accordingly to the user.\n"
   ]
  },
  {
   "cell_type": "code",
   "execution_count": null,
   "metadata": {},
   "outputs": [],
   "source": [
    "def pallindrome(string):\n",
    "    reverse=string[::-1]\n",
    "    if(reverse==string):\n",
    "        print(\"the string is pallindrome \")\n",
    "    else:\n",
    "        print(\"Not a pallindrome\")\n",
    "pallindrome(input(\"enter a string: \"))"
   ]
  },
  {
   "cell_type": "markdown",
   "metadata": {},
   "source": [
    "# Question 4:\n",
    "Write a Python's user defined function that removes all the additional characters from the string\n",
    "and converts it finally to lower case using built-in lower(). eg: If the string is \"Dr. Darshan Ingle\n",
    "@AI-ML Trainer\", then the output be \"drdarshaningleaimltrainer\"."
   ]
  },
  {
   "cell_type": "code",
   "execution_count": null,
   "metadata": {},
   "outputs": [],
   "source": [
    "def converter(string=\"Dr. Darshan Ingle @AI-ML Trainer\"):\n",
    "    convertedString=''.join(each for each in string if each.isalnum())\n",
    "    return(convertedString.lower())\n",
    "print(converter())\n",
    "print(converter(\"Hi everyone, welcome to the @ resturant\"))"
   ]
  },
  {
   "cell_type": "code",
   "execution_count": null,
   "metadata": {},
   "outputs": [],
   "source": []
  }
 ],
 "metadata": {
  "kernelspec": {
   "display_name": "Python 3",
   "language": "python",
   "name": "python3"
  },
  "language_info": {
   "codemirror_mode": {
    "name": "ipython",
    "version": 3
   },
   "file_extension": ".py",
   "mimetype": "text/x-python",
   "name": "python",
   "nbconvert_exporter": "python",
   "pygments_lexer": "ipython3",
   "version": "3.7.1"
  }
 },
 "nbformat": 4,
 "nbformat_minor": 2
}
